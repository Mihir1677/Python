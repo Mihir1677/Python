{
 "cells": [
  {
   "cell_type": "markdown",
   "metadata": {},
   "source": [
    "<a href='https://www.darshan.ac.in/'> <img src='https://www.darshan.ac.in/Content/media/DU_Logo.svg' width=\"250\" height=\"300\"/></a>\n",
    "<pre>\n",
    "<center><b><h1>Python Programming - 2101CS405</b></center>\n",
    "<center><b><h1>Lab - 9</b></center>    \n",
    "<pre>"
   ]
  },
  {
   "cell_type": "markdown",
   "metadata": {},
   "source": [
    "# Exception Handling"
   ]
  },
  {
   "cell_type": "markdown",
   "metadata": {},
   "source": [
    "# A"
   ]
  },
  {
   "cell_type": "markdown",
   "metadata": {},
   "source": [
    "### 01) WAP to handle divide by zero exception."
   ]
  },
  {
   "cell_type": "code",
   "execution_count": 31,
   "metadata": {},
   "outputs": [
    {
     "name": "stdout",
     "output_type": "stream",
     "text": [
      "Cannot divide by 0 <class 'ZeroDivisionError'>\n"
     ]
    }
   ],
   "source": [
    "n = 0;\n",
    "a = 15;\n",
    "try:\n",
    "    c = a/n;\n",
    "except ZeroDivisionError:\n",
    "    print(\"Cannot divide by 0\",ZeroDivisionError)"
   ]
  },
  {
   "cell_type": "markdown",
   "metadata": {},
   "source": [
    "### 02)  Write a Python program that inputs a number and generates an error message if it is not a number."
   ]
  },
  {
   "cell_type": "code",
   "execution_count": 22,
   "metadata": {},
   "outputs": [
    {
     "name": "stdout",
     "output_type": "stream",
     "text": [
      "Not a number\n"
     ]
    }
   ],
   "source": [
    "n = input(\"Enter something\")\n",
    "try:\n",
    "    int(n);\n",
    "    print(n);\n",
    "except:\n",
    "    print(\"Not a number\")"
   ]
  },
  {
   "cell_type": "markdown",
   "metadata": {},
   "source": [
    "### 03) WAP to handle file not found Exception"
   ]
  },
  {
   "cell_type": "code",
   "execution_count": 28,
   "metadata": {},
   "outputs": [
    {
     "name": "stdout",
     "output_type": "stream",
     "text": [
      "File not found\n"
     ]
    }
   ],
   "source": [
    "try:\n",
    "    file1 = \"file2.txt\"\n",
    "    file =  open(file1,'r')\n",
    "    print(\"File found\")\n",
    "except:\n",
    "    print(\"File not found\")"
   ]
  },
  {
   "cell_type": "markdown",
   "metadata": {},
   "source": [
    "### 04) WAP to handle type Exception."
   ]
  },
  {
   "cell_type": "code",
   "execution_count": 54,
   "metadata": {},
   "outputs": [
    {
     "name": "stdout",
     "output_type": "stream",
     "text": [
      "Not an integer TypeError\n"
     ]
    }
   ],
   "source": [
    "try:\n",
    "    n = int(input(\"Enter number\"))\n",
    "    res = n * n;\n",
    "    print(res)\n",
    "except :\n",
    "    print(\"Not an integer TypeError\")"
   ]
  },
  {
   "cell_type": "markdown",
   "metadata": {},
   "source": [
    "### 05) WAP to demonstrate valueError and indexError with example."
   ]
  },
  {
   "cell_type": "code",
   "execution_count": 36,
   "metadata": {},
   "outputs": [
    {
     "name": "stdout",
     "output_type": "stream",
     "text": [
      "Not an integer <class 'ValueError'>\n",
      "Index out of bound <class 'IndexError'>\n"
     ]
    }
   ],
   "source": [
    "try:\n",
    "    n = int(input(\"Enter number\"))\n",
    "    res = n * n;\n",
    "    print(res)\n",
    "except ValueError:\n",
    "    print(\"Not an integer\",ValueError)\n",
    "try:\n",
    "    lista = [1,2,3]\n",
    "    a = lista[4]\n",
    "except IndexError:\n",
    "    print(\"Index out of bound\",IndexError)"
   ]
  },
  {
   "cell_type": "markdown",
   "metadata": {},
   "source": [
    "### 06) WAP to domonstrate else  and finally block."
   ]
  },
  {
   "cell_type": "code",
   "execution_count": 58,
   "metadata": {},
   "outputs": [
    {
     "name": "stdout",
     "output_type": "stream",
     "text": [
      "16\n",
      "20 Works when theres no exception in try block\n",
      "Works even if exception found or not\n"
     ]
    }
   ],
   "source": [
    "try:\n",
    "    n = int(input(\"Enter number\"))\n",
    "    res = n * n;\n",
    "    print(res)\n",
    "except ValueError:\n",
    "    print(\"Not an integer\",ValueError)\n",
    "else:\n",
    "    print(res+n,\"Works when theres no exception in try block\");\n",
    "finally:\n",
    "    print(\"Works even if exception found or not\")"
   ]
  },
  {
   "cell_type": "markdown",
   "metadata": {},
   "source": [
    "### 07) Create a short program that prompts the user for a list of grades separated by commas. Split the string into individual grades and use a list comprehension to convert each string to an integer. You should use a try statement to inform the user when the values they entered cannot be converted."
   ]
  },
  {
   "cell_type": "code",
   "execution_count": 47,
   "metadata": {},
   "outputs": [
    {
     "name": "stdout",
     "output_type": "stream",
     "text": [
      "Entered data cannot be converted\n"
     ]
    }
   ],
   "source": [
    "try:\n",
    "    grades = input(\"Enter a list of grades separated by commas: \")\n",
    "    grades_list = grades.split(',')\n",
    "    grades_int = [int(grade) for grade in grades_list]\n",
    "    print(grades_int)\n",
    "except TypeError:\n",
    "    print(\"Entered data cannot be converted\",TypeError)"
   ]
  },
  {
   "cell_type": "markdown",
   "metadata": {},
   "source": []
  },
  {
   "cell_type": "markdown",
   "metadata": {},
   "source": [
    "# B"
   ]
  },
  {
   "cell_type": "markdown",
   "metadata": {},
   "source": [
    "### 01) WAP to Raising User Generated Exception."
   ]
  },
  {
   "cell_type": "code",
   "execution_count": 66,
   "metadata": {},
   "outputs": [
    {
     "name": "stdout",
     "output_type": "stream",
     "text": [
      "Cannot divide by 0 <class 'ZeroDivisionError'>\n"
     ]
    }
   ],
   "source": [
    "n = int(input(\"Enter integer\"))\n",
    "a = 15;\n",
    "try:\n",
    "    if(n==0):\n",
    "        raise ZeroDivisionError\n",
    "    print(a/n);\n",
    "except ZeroDivisionError:\n",
    "    print(\"Cannot divide by 0\",ZeroDivisionError)"
   ]
  },
  {
   "cell_type": "markdown",
   "metadata": {},
   "source": [
    "### 02) WAP to raise your custom Exception."
   ]
  },
  {
   "cell_type": "code",
   "execution_count": 71,
   "metadata": {},
   "outputs": [
    {
     "name": "stdout",
     "output_type": "stream",
     "text": [
      "Negative number exception\n"
     ]
    }
   ],
   "source": [
    "class NegativeNumberException(Exception):\n",
    "    def __init__(self, arg):\n",
    "        self.arg = arg\n",
    "    \n",
    "try:\n",
    "    n = int(input(\"Enter number: \"))\n",
    "    if(n>0):\n",
    "        print(n);\n",
    "    else:\n",
    "        raise NegativeNumberException(\"Negative number exception\")\n",
    "except NegativeNumberException as e:\n",
    "    print(e.arg);"
   ]
  }
 ],
 "metadata": {
  "kernelspec": {
   "display_name": "Python 3 (ipykernel)",
   "language": "python",
   "name": "python3"
  },
  "language_info": {
   "codemirror_mode": {
    "name": "ipython",
    "version": 3
   },
   "file_extension": ".py",
   "mimetype": "text/x-python",
   "name": "python",
   "nbconvert_exporter": "python",
   "pygments_lexer": "ipython3",
   "version": "3.11.5"
  }
 },
 "nbformat": 4,
 "nbformat_minor": 4
}
