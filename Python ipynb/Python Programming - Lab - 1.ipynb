{
 "cells": [
  {
   "cell_type": "markdown",
   "metadata": {},
   "source": [
    "<a href='https://www.darshan.ac.in/'> <img src='https://www.darshan.ac.in/Content/media/DU_Logo.svg' width=\"250\" height=\"300\"/></a>\n",
    "<pre>\n",
    "<center><b><h1>Python Programming - 2101CS405</b></center>\n",
    "<center><b><h1>Lab - 1</b></center>\n",
    "<h3>Name: Bhut Mihir<br/>\n",
    "Enrollment No: <u>22010101417</u><br/>\n",
    "Roll No: 282</h3>\n",
    "<pre>"
   ]
  },
  {
   "cell_type": "markdown",
   "metadata": {},
   "source": [
    "### 01) WAP to print “Hello World”"
   ]
  },
  {
   "cell_type": "code",
   "execution_count": 1,
   "metadata": {},
   "outputs": [
    {
     "name": "stdout",
     "output_type": "stream",
     "text": [
      "Hello World\n"
     ]
    }
   ],
   "source": [
    "print(\"Hello World\")"
   ]
  },
  {
   "cell_type": "markdown",
   "metadata": {},
   "source": [
    "### 02) WAP to print your address i) using single print ii) using multiple print"
   ]
  },
  {
   "cell_type": "code",
   "execution_count": 3,
   "metadata": {},
   "outputs": [
    {
     "name": "stdout",
     "output_type": "stream",
     "text": [
      "Shree Hari Society - 9, Mavdi, Rajkot\n"
     ]
    }
   ],
   "source": [
    "print(\"Shree Hari Society - 9, Mavdi, Rajkot\")"
   ]
  },
  {
   "cell_type": "code",
   "execution_count": 2,
   "metadata": {},
   "outputs": [
    {
     "name": "stdout",
     "output_type": "stream",
     "text": [
      "Shree Hari Society - 9,\n",
      "Mavdi,\n",
      "Rajkot\n"
     ]
    }
   ],
   "source": [
    "print(\"Shree Hari Society - 9,\\nMavdi,\\nRajkot\")"
   ]
  },
  {
   "cell_type": "markdown",
   "metadata": {},
   "source": [
    "### 03) WAP to print addition of 2 numbers (without input function)"
   ]
  },
  {
   "cell_type": "code",
   "execution_count": 4,
   "metadata": {},
   "outputs": [
    {
     "name": "stdout",
     "output_type": "stream",
     "text": [
      "15\n"
     ]
    }
   ],
   "source": [
    "a = 5\n",
    "b = 10\n",
    "c = a + b\n",
    "print(c)"
   ]
  },
  {
   "cell_type": "markdown",
   "metadata": {},
   "source": [
    "### 04) WAP to calculate and print average of 2 numbers (without input function)"
   ]
  },
  {
   "cell_type": "code",
   "execution_count": 9,
   "metadata": {},
   "outputs": [
    {
     "name": "stdout",
     "output_type": "stream",
     "text": [
      "7.5\n"
     ]
    }
   ],
   "source": [
    "a = 5,\n",
    "b = 10,\n",
    "c = (5+10)/2\n",
    "print(c)"
   ]
  },
  {
   "cell_type": "markdown",
   "metadata": {},
   "source": [
    "### 05) WAP to add two number entered by user."
   ]
  },
  {
   "cell_type": "code",
   "execution_count": 11,
   "metadata": {},
   "outputs": [
    {
     "name": "stdout",
     "output_type": "stream",
     "text": [
      "Enter 1st value: 5\n",
      "Enter 2nd value: 10\n",
      "15\n"
     ]
    }
   ],
   "source": [
    "a = int(input(\"Enter 1st value: \"))\n",
    "b = int(input(\"Enter 2nd value: \"))\n",
    "c = a+b\n",
    "print(c)"
   ]
  },
  {
   "cell_type": "markdown",
   "metadata": {},
   "source": [
    "### 06) WAP to calculate simple interest."
   ]
  },
  {
   "cell_type": "code",
   "execution_count": 15,
   "metadata": {},
   "outputs": [
    {
     "name": "stdout",
     "output_type": "stream",
     "text": [
      "Enter value of R: 8\n",
      "Enter value of P: 5\n",
      "Enter value of T: 6\n",
      "245\n"
     ]
    }
   ],
   "source": [
    "r = int(input(\"Enter value of R: \"))\n",
    "p = int(input(\"Enter value of P: \"))\n",
    "t = int(input(\"Enter value of T: \"))\n",
    "ans = p*(1+r*t)\n",
    "print(ans)"
   ]
  },
  {
   "cell_type": "markdown",
   "metadata": {},
   "source": [
    "### 07) WAP Calculate Area and Circumfrence of Circle"
   ]
  },
  {
   "cell_type": "code",
   "execution_count": 22,
   "metadata": {},
   "outputs": [
    {
     "name": "stdout",
     "output_type": "stream",
     "text": [
      "Enter radius: 5\n",
      "Area = 78.5\n"
     ]
    }
   ],
   "source": [
    "r = float(input(\"Enter radius: \"))\n",
    "area = float(3.14 * r ** 2)\n",
    "print(\"Area =\",area)"
   ]
  },
  {
   "cell_type": "code",
   "execution_count": 23,
   "metadata": {},
   "outputs": [
    {
     "name": "stdout",
     "output_type": "stream",
     "text": [
      "Enter radius: 5\n",
      "Circumfrence of Circle = 31.400000000000002\n"
     ]
    }
   ],
   "source": [
    "r = float(input(\"Enter radius: \"))\n",
    "cir = 2 * 3.14 * r\n",
    "print(\"Circumfrence of Circle =\",cir)"
   ]
  },
  {
   "cell_type": "markdown",
   "metadata": {},
   "source": [
    "### 08) WAP to print Multiplication table of given number without using loops."
   ]
  },
  {
   "cell_type": "code",
   "execution_count": 27,
   "metadata": {},
   "outputs": [
    {
     "name": "stdout",
     "output_type": "stream",
     "text": [
      "Enter number for it's multiplication table: 58\n",
      "58 X 1 = 58\n",
      "58 X 2 = 116\n",
      "58 X 3 = 174\n",
      "58 X 4 = 232\n",
      "58 X 5 = 290\n",
      "58 X 6 = 348\n",
      "58 X 7 = 406\n",
      "58 X 8 = 464\n",
      "58 X 9 = 522\n",
      "58 X 10 = 580\n"
     ]
    }
   ],
   "source": [
    "n = int(input(\"Enter number for it's multiplication table: \"))\n",
    "print(n,\"X\",\"1\",\"=\",(n*1))\n",
    "print(n,\"X\",\"2\",\"=\",(n*2))\n",
    "print(n,\"X\",\"3\",\"=\",(n*3))\n",
    "print(n,\"X\",\"4\",\"=\",(n*4))\n",
    "print(n,\"X\",\"5\",\"=\",(n*5))\n",
    "print(n,\"X\",\"6\",\"=\",(n*6))\n",
    "print(n,\"X\",\"7\",\"=\",(n*7))\n",
    "print(n,\"X\",\"8\",\"=\",(n*8))\n",
    "print(n,\"X\",\"9\",\"=\",(n*9))\n",
    "print(n,\"X\",\"10\",\"=\",(n*10))"
   ]
  },
  {
   "cell_type": "markdown",
   "metadata": {},
   "source": [
    "### 09) WAP to calculate Area of Triangle (hint: a = h * b * 0.5)"
   ]
  },
  {
   "cell_type": "code",
   "execution_count": 28,
   "metadata": {},
   "outputs": [
    {
     "name": "stdout",
     "output_type": "stream",
     "text": [
      "Enter value of H: 8\n",
      "Enter value of B: 5\n",
      "Area = 20.0\n"
     ]
    }
   ],
   "source": [
    "h = float(input(\"Enter value of H: \"))\n",
    "b = float(input(\"Enter value of B: \"))\n",
    "area = h*b*0.5\n",
    "print(\"Area =\",area)"
   ]
  },
  {
   "cell_type": "markdown",
   "metadata": {},
   "source": [
    "### 10) WAP to convert degree to Fahrenheit and vice versa."
   ]
  },
  {
   "cell_type": "code",
   "execution_count": 29,
   "metadata": {},
   "outputs": [
    {
     "name": "stdout",
     "output_type": "stream",
     "text": [
      "Enter celsius: 98\n",
      "Fahrenheit = 208.4\n"
     ]
    }
   ],
   "source": [
    "c = float(input(\"Enter celsius: \"))\n",
    "fahren = ((c*1.8)+32) \n",
    "print(\"Fahrenheit =\",fahren)"
   ]
  },
  {
   "cell_type": "code",
   "execution_count": 31,
   "metadata": {},
   "outputs": [
    {
     "name": "stdout",
     "output_type": "stream",
     "text": [
      "Enter fahrenheit: 208\n",
      "Celsius = 97.77777777777777\n"
     ]
    }
   ],
   "source": [
    "f = float(input(\"Enter fahrenheit: \"))\n",
    "cel = (f-32)/1.8\n",
    "print(\"Celsius =\",cel)"
   ]
  },
  {
   "cell_type": "markdown",
   "metadata": {},
   "source": [
    "### 11) WAP to calculate total marks and Percentage."
   ]
  },
  {
   "cell_type": "code",
   "execution_count": 34,
   "metadata": {},
   "outputs": [
    {
     "name": "stdout",
     "output_type": "stream",
     "text": [
      "Enter 1st Subject mark: 85\n",
      "Enter 2nd Subject mark: 96\n",
      "Enter 3rd Subject mark: 75\n",
      "Enter 4th Subject mark: 89\n",
      "Enter 5th Subject mark: 88\n",
      "Total marks = 433 \n",
      "Percentage = 86.6\n"
     ]
    }
   ],
   "source": [
    "s1 = int(input(\"Enter 1st Subject mark: \"))\n",
    "s2 = int(input(\"Enter 2nd Subject mark: \"))\n",
    "s3 = int(input(\"Enter 3rd Subject mark: \"))\n",
    "s4 = int(input(\"Enter 4th Subject mark: \"))\n",
    "s5 = int(input(\"Enter 5th Subject mark: \"))\n",
    "print(\"Total marks =\",(s1+s2+s3+s4+s5),\"\\nPercentage =\",((s1+s2+s3+s4+s5)/500)*100)"
   ]
  },
  {
   "cell_type": "markdown",
   "metadata": {},
   "source": [
    "### 12) Compute distance between two points taking input from the user (Pythagorean Theorem)."
   ]
  },
  {
   "cell_type": "code",
   "execution_count": 35,
   "metadata": {},
   "outputs": [
    {
     "name": "stdout",
     "output_type": "stream",
     "text": [
      "Enter 1st point: 8\n",
      "Enter 2nd point: 5\n",
      "44.5\n"
     ]
    }
   ],
   "source": [
    "a = float(input(\"Enter 1st point: \"))\n",
    "b = float(input(\"Enter 2nd point: \"))\n",
    "c = (a**2 + b**2)**1/2\n",
    "print(c)"
   ]
  },
  {
   "cell_type": "markdown",
   "metadata": {},
   "source": [
    "### 13) WAP to convert seconds into hours, minutes & seconds and print in HH:MM:SS\n",
    "[e.g. 10000 seconds mean 2:46:40 (2 Hours, 46 Minutes, 40Seconds)]"
   ]
  },
  {
   "cell_type": "code",
   "execution_count": 38,
   "metadata": {},
   "outputs": [
    {
     "name": "stdout",
     "output_type": "stream",
     "text": [
      "Enter seconds: 10000\n",
      "2:46:40\n"
     ]
    }
   ],
   "source": [
    "sec = int(input(\"Enter seconds: \"))\n",
    "h = int(sec/3600)\n",
    "m = int((sec -(3600*h))/60)\n",
    "s = int((sec -(3600*h)-(m*60)))\n",
    "print(h,m,s,sep=':')"
   ]
  },
  {
   "cell_type": "markdown",
   "metadata": {},
   "source": [
    "### 14) WAP to enter distance into kilometer and convert it into meter, feet,inches, and centimeter"
   ]
  },
  {
   "cell_type": "code",
   "execution_count": 39,
   "metadata": {},
   "outputs": [
    {
     "name": "stdout",
     "output_type": "stream",
     "text": [
      "Enter kilometer: 15\n",
      "Meter = 15000.0\n",
      "Feet = 49212.600000000006\n",
      "Inches = 590551.2000000001\n",
      "Centimeter = 1500000.0\n"
     ]
    }
   ],
   "source": [
    "km = float(input(\"Enter kilometer: \"))\n",
    "print(\"Meter =\",(km*1000))\n",
    "print(\"Feet =\",(km*3280.84))\n",
    "print(\"Inches =\",(km*39370.08))\n",
    "print(\"Centimeter =\",(km*100000))"
   ]
  }
 ],
 "metadata": {
  "kernelspec": {
   "display_name": "Python 3 (ipykernel)",
   "language": "python",
   "name": "python3"
  },
  "language_info": {
   "codemirror_mode": {
    "name": "ipython",
    "version": 3
   },
   "file_extension": ".py",
   "mimetype": "text/x-python",
   "name": "python",
   "nbconvert_exporter": "python",
   "pygments_lexer": "ipython3",
   "version": "3.11.5"
  },
  "vscode": {
   "interpreter": {
    "hash": "31f2aee4e71d21fbe5cf8b01ff0e069b9275f58929596ceb00d14d90e3e16cd6"
   }
  }
 },
 "nbformat": 4,
 "nbformat_minor": 4
}
