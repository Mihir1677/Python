{
 "cells": [
  {
   "cell_type": "markdown",
   "metadata": {},
   "source": [
    "\n",
    "<a href='https://www.darshan.ac.in/'> <img src='https://www.darshan.ac.in/Content/media/DU_Logo.svg' width=\"250\" height=\"300\"/></a>\n",
    "<pre>\n",
    "<center><b><h1>Python Programming - 2101CS405</b></center>\n",
    "<center><b><h1>Lab - 5</b></center>    \n",
    "<h3>Name: Mihir Bhut</h3>\n",
    "<h3>Enrollment No: <u>22010101417</u></h3>\n",
    "<h3>Roll No: 282</h3>\n",
    "<pre>"
   ]
  },
  {
   "cell_type": "markdown",
   "metadata": {},
   "source": [
    "# list"
   ]
  },
  {
   "cell_type": "markdown",
   "metadata": {},
   "source": [
    "### 01) WAP to find sum of all the elements in List."
   ]
  },
  {
   "cell_type": "code",
   "execution_count": 6,
   "metadata": {},
   "outputs": [
    {
     "name": "stdout",
     "output_type": "stream",
     "text": [
      "Enter how many elements you want to add? : 5\n",
      "Enter Element: 1\n",
      "Enter Element: 2\n",
      "Enter Element: 3\n",
      "Enter Element: 4\n",
      "Enter Element: 5\n",
      "[1, 2, 3, 4, 5]\n",
      "Sum of all elements =  15\n"
     ]
    }
   ],
   "source": [
    "n = int(input(\"Enter how many elements you want to add? : \"));\n",
    "li = [];\n",
    "sum = 0;\n",
    "for i in range(0,n):\n",
    "    li.append(int(input(\"Enter Element: \")));\n",
    "print(li);\n",
    "for i in range(0,n):\n",
    "    sum += li[i];\n",
    "print(\"Sum of all elements = \",sum);"
   ]
  },
  {
   "cell_type": "markdown",
   "metadata": {},
   "source": [
    "### 02) WAP to find largest element in a List."
   ]
  },
  {
   "cell_type": "code",
   "execution_count": 8,
   "metadata": {},
   "outputs": [
    {
     "name": "stdout",
     "output_type": "stream",
     "text": [
      "Enter how many elements you want to add? : 8\n",
      "Enter Element: 1\n",
      "Enter Element: 4\n",
      "Enter Element: 5\n",
      "Enter Element: 8\n",
      "Enter Element: 58\n",
      "Enter Element: 45\n",
      "Enter Element: 2\n",
      "Enter Element: 79\n",
      "[1, 4, 5, 8, 58, 45, 2, 79]\n",
      "Maximum in list =  79\n"
     ]
    }
   ],
   "source": [
    "n = int(input(\"Enter how many elements you want to add? : \"));\n",
    "li = [];\n",
    "for i in range(0,n):\n",
    "    li.append(int(input(\"Enter Element: \")));\n",
    "max = li[0];\n",
    "for i in range(0,n):\n",
    "    if(max<li[i]):\n",
    "        max = li[i];\n",
    "print(li);\n",
    "print(\"Maximum in list = \",max);"
   ]
  },
  {
   "cell_type": "markdown",
   "metadata": {},
   "source": [
    "### 03) WAP to split the List into two and append the first part to the end."
   ]
  },
  {
   "cell_type": "code",
   "execution_count": 48,
   "metadata": {},
   "outputs": [
    {
     "name": "stdout",
     "output_type": "stream",
     "text": [
      "Enter how many elements you want to add? : 8\n",
      "Enter Element: 1\n",
      "Enter Element: 2\n",
      "Enter Element: 3\n",
      "Enter Element: 4\n",
      "Enter Element: 5\n",
      "Enter Element: 6\n",
      "Enter Element: 7\n",
      "Enter Element: 8\n",
      "[5, 6, 7, 8, 1, 2, 3, 4]\n"
     ]
    }
   ],
   "source": [
    "n = int(input(\"Enter how many elements you want to add? : \"));\n",
    "li = [];\n",
    "for i in range(0,n):\n",
    "    li.append(int(input(\"Enter Element: \")));\n",
    "li1 = li[:n//2];\n",
    "li2 = li[n//2:];\n",
    "li = li2+li1;\n",
    "print(li);"
   ]
  },
  {
   "cell_type": "markdown",
   "metadata": {},
   "source": [
    "### 04) WAP to interchange first and last elements in list entered by a user."
   ]
  },
  {
   "cell_type": "code",
   "execution_count": 52,
   "metadata": {},
   "outputs": [
    {
     "name": "stdout",
     "output_type": "stream",
     "text": [
      "Enter how many elements you want to add? : 5\n",
      "Enter Element: 1\n",
      "Enter Element: 2\n",
      "Enter Element: 3\n",
      "Enter Element: 4\n",
      "Enter Element: 5\n",
      "[5, 2, 3, 4, 1]\n"
     ]
    }
   ],
   "source": [
    "n = int(input(\"Enter how many elements you want to add? : \"));\n",
    "li = [];\n",
    "for i in range(0,n):\n",
    "    li.append(int(input(\"Enter Element: \")));\n",
    "temp = li[-1];\n",
    "li[-1] = li[0];\n",
    "li[0] = temp;\n",
    "print(li);"
   ]
  },
  {
   "cell_type": "markdown",
   "metadata": {},
   "source": [
    "### 05) WAP to interchange the elements on two positions entered by a user."
   ]
  },
  {
   "cell_type": "code",
   "execution_count": 54,
   "metadata": {},
   "outputs": [
    {
     "name": "stdout",
     "output_type": "stream",
     "text": [
      "Enter how many elements you want to add? : 5\n",
      "Enter Element: 1\n",
      "Enter Element: 2\n",
      "Enter Element: 3\n",
      "Enter Element: 4\n",
      "Enter Element: 5\n",
      "Enter first index: 0\n",
      "Enter second index: 3\n",
      "[4, 2, 3, 1, 5]\n"
     ]
    }
   ],
   "source": [
    "n = int(input(\"Enter how many elements you want to add? : \"));\n",
    "li = [];\n",
    "for i in range(0,n):\n",
    "    li.append(int(input(\"Enter Element: \")));\n",
    "i1 = int(input(\"Enter first index: \"));\n",
    "i2 = int(input(\"Enter second index: \"));\n",
    "temp = li[i1];\n",
    "li[i1] = li[i2];\n",
    "li[i2] = temp;\n",
    "print(li);"
   ]
  },
  {
   "cell_type": "markdown",
   "metadata": {},
   "source": [
    "### 06) WAP to reverses the list entered by user."
   ]
  },
  {
   "cell_type": "code",
   "execution_count": 58,
   "metadata": {},
   "outputs": [
    {
     "name": "stdout",
     "output_type": "stream",
     "text": [
      "Enter how many elements you want to add? : 5\n",
      "Enter Element: 1\n",
      "Enter Element: 2\n",
      "Enter Element: 3\n",
      "Enter Element: 4\n",
      "Enter Element: 5\n",
      "[5, 4, 3, 2, 1]\n"
     ]
    }
   ],
   "source": [
    "n = int(input(\"Enter how many elements you want to add? : \"));\n",
    "li = [];\n",
    "for i in range(0,n):\n",
    "    li.append(int(input(\"Enter Element: \")));\n",
    "li.reverse();\n",
    "print(li);"
   ]
  },
  {
   "cell_type": "markdown",
   "metadata": {},
   "source": [
    "### 07) Python program to remove multiple elements from a list using list comprehension"
   ]
  },
  {
   "cell_type": "code",
   "execution_count": 2,
   "metadata": {},
   "outputs": [
    {
     "name": "stdout",
     "output_type": "stream",
     "text": [
      "[1, 4, 5]\n"
     ]
    }
   ],
   "source": [
    "n = int(input(\"Enter how many elements you want to add? : \"));\n",
    "li = [];\n",
    "rli = [];\n",
    "for i in range(0,n):\n",
    "    li.append(int(input(\"Enter Element: \")));\n",
    "m = int(input(\"Enter which elements you want to remove? \"));\n",
    "for i in range(0,m):\n",
    "    rli.append(int(input(\"Enter Element: \")));\n",
    "result = [i for i in li if i not in rli];\n",
    "print(result);"
   ]
  },
  {
   "cell_type": "markdown",
   "metadata": {},
   "source": [
    "### 08) Create a list from the specified start to end index of another list."
   ]
  },
  {
   "cell_type": "code",
   "execution_count": 68,
   "metadata": {},
   "outputs": [
    {
     "name": "stdout",
     "output_type": "stream",
     "text": [
      "Enter how many elements you want to add? : 5\n",
      "Enter Element: 1\n",
      "Enter Element: 2\n",
      "Enter Element: 3\n",
      "Enter Element: 4\n",
      "Enter Element: 5\n",
      "Enter starting index: 1\n",
      "Enter ending index: 3\n",
      "[2, 3, 4]\n"
     ]
    }
   ],
   "source": [
    "n = int(input(\"Enter how many elements you want to add? : \"));\n",
    "li = [];\n",
    "for i in range(0,n):\n",
    "    li.append(int(input(\"Enter Element: \")));\n",
    "start = int(input(\"Enter starting index: \"));\n",
    "end = int(input(\"Enter ending index: \"));\n",
    "li2 = li[start:end+1];\n",
    "print(li2);"
   ]
  },
  {
   "cell_type": "markdown",
   "metadata": {},
   "source": [
    "### 09) Input comma separated elements, convert into list and print."
   ]
  },
  {
   "cell_type": "code",
   "execution_count": 72,
   "metadata": {},
   "outputs": [
    {
     "name": "stdout",
     "output_type": "stream",
     "text": [
      "Enter comma seprated values: 1,2,3,4,5,6,7,8,9\n",
      "['1', '2', '3', '4', '5', '6', '7', '8', '9']\n"
     ]
    }
   ],
   "source": [
    "li = input(\"Enter comma seprated values: \");\n",
    "li1 = li.split(',');\n",
    "print(li1);"
   ]
  },
  {
   "cell_type": "markdown",
   "metadata": {},
   "source": [
    "### 01) WAP to count Even and Odd numbers in a List."
   ]
  },
  {
   "cell_type": "code",
   "execution_count": 3,
   "metadata": {},
   "outputs": [
    {
     "name": "stdout",
     "output_type": "stream",
     "text": [
      "Odd count:  3 \n",
      "Even count:  2\n"
     ]
    }
   ],
   "source": [
    "n = int(input(\"Enter how many elements you want to add? : \"));\n",
    "li = [];\n",
    "odd=0;\n",
    "even=0;\n",
    "for i in range(0,n):\n",
    "    li.append(int(input(\"Enter Element: \")));\n",
    "for i in range(0,n):\n",
    "    if(li[i]%2==0):\n",
    "        even += 1;\n",
    "    else:\n",
    "        odd += 1;\n",
    "print(\"Odd count: \",odd,\"\\nEven count: \",even);"
   ]
  },
  {
   "cell_type": "markdown",
   "metadata": {},
   "source": [
    "### 02) Python program to find N largest and smallest elements from the list"
   ]
  },
  {
   "cell_type": "code",
   "execution_count": 11,
   "metadata": {},
   "outputs": [
    {
     "name": "stdout",
     "output_type": "stream",
     "text": [
      "Smallest = [1, 2] Largest = [4, 5]\n"
     ]
    }
   ],
   "source": [
    "n = int(input(\"How many elements you want to enter?: \"));\n",
    "li = [];\n",
    "for i in range(0,n):\n",
    "    li.append(int(input(\"Enter element: \")));\n",
    "m = int(input(\"how many largest and smallest elements you want?: \"));\n",
    "sortedli = sorted(li);\n",
    "smallest = list(sortedli[:m:]);\n",
    "largest = list(sortedli[-m::]);\n",
    "print(\"Smallest =\",smallest,\"Largest =\",largest);"
   ]
  },
  {
   "cell_type": "markdown",
   "metadata": {},
   "source": [
    "### 03) WAP to print duplicates from a list of integers"
   ]
  },
  {
   "cell_type": "code",
   "execution_count": 14,
   "metadata": {},
   "outputs": [
    {
     "name": "stdout",
     "output_type": "stream",
     "text": [
      "1 Repeated 2 times\n",
      "3 Repeated 3 times\n",
      "5 Repeated 2 times\n"
     ]
    }
   ],
   "source": [
    "n = int(input(\"How many elements you want to enter?: \"));\n",
    "li = [];\n",
    "dupe = [];\n",
    "for i in range(0,n):\n",
    "    li.append(int(input(\"Enter element: \")));\n",
    "repeated = [];\n",
    "for i in li:\n",
    "    if(li.count(i)>1 and i not in repeated):\n",
    "        repeated.append(i);\n",
    "        dupe.append(i);\n",
    "        print(i,\"Repeated\",li.count(i),\"times\");"
   ]
  }
 ],
 "metadata": {
  "kernelspec": {
   "display_name": "Python 3 (ipykernel)",
   "language": "python",
   "name": "python3"
  },
  "language_info": {
   "codemirror_mode": {
    "name": "ipython",
    "version": 3
   },
   "file_extension": ".py",
   "mimetype": "text/x-python",
   "name": "python",
   "nbconvert_exporter": "python",
   "pygments_lexer": "ipython3",
   "version": "3.11.5"
  }
 },
 "nbformat": 4,
 "nbformat_minor": 4
}
