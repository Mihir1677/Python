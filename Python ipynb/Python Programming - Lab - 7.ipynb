{
 "cells": [
  {
   "cell_type": "markdown",
   "metadata": {},
   "source": [
    "<a href='https://www.darshan.ac.in/'> <img src='https://www.darshan.ac.in/Content/media/DU_Logo.svg' width=\"250\" height=\"300\"/></a>\n",
    "<pre>\n",
    "<center><b><h1>Python Programming - 2101CS405</b></center>\n",
    "<center><b><h1>Lab - 7</b></center>    \n",
    "<pre>"
   ]
  },
  {
   "cell_type": "markdown",
   "metadata": {},
   "source": [
    "# Functions"
   ]
  },
  {
   "cell_type": "markdown",
   "metadata": {},
   "source": [
    "### 01) WAP to count simple interest using function."
   ]
  },
  {
   "cell_type": "code",
   "execution_count": 3,
   "metadata": {},
   "outputs": [
    {
     "name": "stdout",
     "output_type": "stream",
     "text": [
      "Enter value of P: 4\n",
      "Enter value of N: 5\n",
      "Enter value of sum = R: 1000000\n",
      "Interest = 200000.0\n"
     ]
    }
   ],
   "source": [
    "def interest(p,n,r):\n",
    "    return ((p*n*r)/100)\n",
    "    \n",
    "p = int(input(\"Enter value of P: \"));\n",
    "n = int(input(\"Enter value of N: \"));\n",
    "r = int(input(\"Enter value of sum = R: \"));\n",
    "print(\"Interest =\",interest(p,n,r));"
   ]
  },
  {
   "cell_type": "markdown",
   "metadata": {},
   "source": [
    "### 02) WAP that defines a function to add first n numbers."
   ]
  },
  {
   "cell_type": "code",
   "execution_count": 8,
   "metadata": {},
   "outputs": [
    {
     "name": "stdout",
     "output_type": "stream",
     "text": [
      "How many numbers you want to add? 5\n",
      "Enter number: 1\n",
      "Enter number: 2\n",
      "Enter number: 3\n",
      "Enter number: 4\n",
      "Enter number: 5\n",
      "Sum = 15\n"
     ]
    }
   ],
   "source": [
    "def add_num(n):\n",
    "    sum1 = 0;\n",
    "    for i in range(0,n):\n",
    "        sum1 += int(input(\"Enter number: \"));\n",
    "    return sum1;\n",
    "\n",
    "n = int(input(\"How many numbers you want to add? \"));\n",
    "print(\"Sum =\",add_num(n));"
   ]
  },
  {
   "cell_type": "markdown",
   "metadata": {},
   "source": [
    "### 03) WAP to find maximum number from given two numbers using function."
   ]
  },
  {
   "cell_type": "code",
   "execution_count": 10,
   "metadata": {},
   "outputs": [
    {
     "name": "stdout",
     "output_type": "stream",
     "text": [
      "Enter number 1: 2\n",
      "Enter number 2: 8\n",
      "8 Is larger\n"
     ]
    }
   ],
   "source": [
    "def max(a,b):\n",
    "    return a if a>b else b\n",
    "\n",
    "a = int(input(\"Enter number 1: \"));\n",
    "b = int(input(\"Enter number 2: \"));\n",
    "print(max(a,b),\"Is larger\");"
   ]
  },
  {
   "cell_type": "markdown",
   "metadata": {},
   "source": [
    "### 04) WAP that defines a function which returns 1 if the number is prime otherwise return 0."
   ]
  },
  {
   "cell_type": "code",
   "execution_count": 33,
   "metadata": {},
   "outputs": [
    {
     "name": "stdout",
     "output_type": "stream",
     "text": [
      "Enter number: 12\n",
      "0\n"
     ]
    }
   ],
   "source": [
    "def isPrime(n):\n",
    "    for i in range(2,n):\n",
    "        if(n%i==0):\n",
    "            return 0;\n",
    "    return 1;\n",
    "\n",
    "n = int(input(\"Enter number: \"));\n",
    "print(isPrime(n));"
   ]
  },
  {
   "cell_type": "markdown",
   "metadata": {},
   "source": [
    "### 05) Write a function called primes that takes an integer value as an argument and returns a list of all prime numbers up to that number."
   ]
  },
  {
   "cell_type": "code",
   "execution_count": 47,
   "metadata": {},
   "outputs": [
    {
     "name": "stdout",
     "output_type": "stream",
     "text": [
      "Enter number to print primes till it: 30\n",
      "Prime numbers till 30 :\n",
      "2\n",
      "3\n",
      "5\n",
      "7\n",
      "11\n",
      "13\n",
      "17\n",
      "19\n",
      "23\n",
      "29\n"
     ]
    }
   ],
   "source": [
    "def primes(n):\n",
    "    for i in range(2,n+1):\n",
    "        isPrime = True;\n",
    "        for j in range(2,i):\n",
    "            if(i%j==0):\n",
    "                isPrime = False;\n",
    "                break;\n",
    "        if(isPrime):\n",
    "            print(i);\n",
    "                \n",
    "n = int(input(\"Enter number to print primes till it: \"));\n",
    "print(\"Prime numbers till\",n,\":\");\n",
    "(primes(n))"
   ]
  },
  {
   "cell_type": "markdown",
   "metadata": {},
   "source": [
    "### 06) WAP to generate Fibonacci series of N given number using function name fibbo. (e.g. 0 1 1 2 3 5 8...)"
   ]
  },
  {
   "cell_type": "code",
   "execution_count": null,
   "metadata": {},
   "outputs": [],
   "source": []
  },
  {
   "cell_type": "markdown",
   "metadata": {},
   "source": [
    "### 07) WAP to find the factorial of a given number using recursion."
   ]
  },
  {
   "cell_type": "code",
   "execution_count": 5,
   "metadata": {},
   "outputs": [
    {
     "name": "stdout",
     "output_type": "stream",
     "text": [
      "Enter number: 5\n",
      "Answer:  120\n"
     ]
    }
   ],
   "source": [
    "def factorial(n):\n",
    "    if(n==1):\n",
    "        return n;\n",
    "    else:\n",
    "        return n*(factorial(n-1));\n",
    "\n",
    "n = int(input(\"Enter number: \"));\n",
    "print(\"Answer: \",factorial(n));"
   ]
  },
  {
   "cell_type": "markdown",
   "metadata": {},
   "source": [
    "### 08) WAP to implement simple calculator using lamda function."
   ]
  },
  {
   "cell_type": "code",
   "execution_count": 27,
   "metadata": {},
   "outputs": [
    {
     "name": "stdout",
     "output_type": "stream",
     "text": [
      "Enter 1st number: 5\n",
      "Enter 2nd number: 2\n",
      "Enter 1 for additon\n",
      "Enter 2 for subtraction\n",
      "Enter 3 for multiplication\n",
      "Enter 4 for division: 4\n",
      "2.5\n"
     ]
    }
   ],
   "source": [
    "addition = lambda a,b: a+b;\n",
    "subtraction = lambda a,b: a-b;\n",
    "multiplication = lambda a,b: a*b;\n",
    "division = lambda a,b: a/b;\n",
    "\n",
    "\n",
    "a = int(input(\"Enter 1st number: \"));\n",
    "b = int(input(\"Enter 2nd number: \"));\n",
    "\n",
    "check = int(input(\"Enter 1 for additon\\nEnter 2 for subtraction\\nEnter 3 for multiplication\\nEnter 4 for division: \"));\n",
    "if(check==1):\n",
    "    print(addition(a,b));\n",
    "elif(check==2):\n",
    "    print(subtraction(a,b));\n",
    "elif(check==3):\n",
    "    print(multiplication(a,b));\n",
    "elif(check==4):\n",
    "    print(division(a,b));\n",
    "else:\n",
    "    print(\"Invalid\");"
   ]
  },
  {
   "cell_type": "markdown",
   "metadata": {},
   "source": [
    "### 09)Write a Python program that accepts a hyphen-separated sequence of words as input and prints the words in a hyphen-separated sequence after sorting them alphabetically\n",
    "Sample Items : green-red-yellow-black-white <br>\n",
    "Expected Result : black-green-red-white-yellow"
   ]
  },
  {
   "cell_type": "code",
   "execution_count": 15,
   "metadata": {},
   "outputs": [
    {
     "name": "stdout",
     "output_type": "stream",
     "text": [
      "Enter hyphen-separated words: green-red-yellow-black-white\n",
      "black-green-red-white-yellow\n"
     ]
    }
   ],
   "source": [
    "def sort_words(string):\n",
    "    words = list(string.split(\"-\"));\n",
    "    words.sort();\n",
    "    string = '';\n",
    "    for i in words:\n",
    "        string = '-'.join(words);\n",
    "    return string;\n",
    "\n",
    "string = input(\"Enter hyphen-separated words: \");\n",
    "print(sort_words(string));"
   ]
  },
  {
   "cell_type": "markdown",
   "metadata": {},
   "source": [
    "### 10) Write a python program to implement all function arguments type\n",
    "Positional arguments <Br>\n",
    "Default argument <Br>\n",
    "Keyword arguments (named arguments) <Br>\n",
    "Arbitrary arguments (variable-length arguments args and kwargs)"
   ]
  },
  {
   "cell_type": "code",
   "execution_count": null,
   "metadata": {},
   "outputs": [],
   "source": []
  },
  {
   "cell_type": "code",
   "execution_count": null,
   "metadata": {},
   "outputs": [],
   "source": []
  },
  {
   "cell_type": "markdown",
   "metadata": {},
   "source": [
    "### 01) WAP to calculate power of a number using recursion."
   ]
  },
  {
   "cell_type": "code",
   "execution_count": 3,
   "metadata": {},
   "outputs": [
    {
     "name": "stdout",
     "output_type": "stream",
     "text": [
      "Enter Base: 5\n",
      "Enter Power: 3\n",
      "Answer:  125\n"
     ]
    }
   ],
   "source": [
    "def power_of(x,y):\n",
    "    if(y==0):\n",
    "        return 1;\n",
    "    else:\n",
    "        return x*(power_of(x,y-1));\n",
    "\n",
    "x = int(input(\"Enter Base: \"));\n",
    "y = int(input(\"Enter Power: \"));\n",
    "print(\"Answer: \",power_of(x,y));"
   ]
  },
  {
   "cell_type": "markdown",
   "metadata": {},
   "source": [
    "### 02) WAP to count digits of a number using recursion."
   ]
  },
  {
   "cell_type": "code",
   "execution_count": 5,
   "metadata": {},
   "outputs": [
    {
     "name": "stdout",
     "output_type": "stream",
     "text": [
      "Total digits in number:  4\n"
     ]
    }
   ],
   "source": [
    "def digits(n):\n",
    "    if(n==0):\n",
    "        return 0;\n",
    "    else:\n",
    "        return 1 + digits(n//10);\n",
    "\n",
    "n = int(input(\"Enter number: \"));\n",
    "print(\"Total digits in number: \",digits(n));"
   ]
  },
  {
   "cell_type": "markdown",
   "metadata": {},
   "source": [
    "### 03) WAP to reverse an integer number using recursion."
   ]
  },
  {
   "cell_type": "code",
   "execution_count": 55,
   "metadata": {},
   "outputs": [
    {
     "name": "stdout",
     "output_type": "stream",
     "text": [
      "3\n",
      "2\n",
      "1\n",
      "Total digits in number:  32.1\n"
     ]
    }
   ],
   "source": [
    "def reverse_digits(n):\n",
    "    if(n==0):\n",
    "        return 0;\n",
    "    else:\n",
    "        m = ((n % 10)); \n",
    "        print(m)\n",
    "        return (reverse_digits(n//10)*10) + m ;\n",
    "\n",
    "n = int(input(\"Enter number: \"));\n",
    "print(\"Total digits in number: \",reverse_digits(n));"
   ]
  },
  {
   "cell_type": "code",
   "execution_count": 62,
   "metadata": {},
   "outputs": [
    {
     "name": "stdout",
     "output_type": "stream",
     "text": [
      "3\n",
      "2\n",
      "1\n",
      "Total digits in number:  0\n"
     ]
    }
   ],
   "source": [
    "def reverse_digits(n):\n",
    "    if(n==0):\n",
    "        return 0;\n",
    "    else:\n",
    "        m = n % 10; \n",
    "        print(m)\n",
    "        return (m//10) + ((reverse_digits(n//10))) ;\n",
    "\n",
    "n = int(input(\"Enter number: \"));\n",
    "print(\"Total digits in number: \",reverse_digits(n));"
   ]
  },
  {
   "cell_type": "markdown",
   "metadata": {},
   "source": [
    "### 04) WAP to convert decimal number into binary using recursion."
   ]
  },
  {
   "cell_type": "code",
   "execution_count": null,
   "metadata": {},
   "outputs": [],
   "source": []
  }
 ],
 "metadata": {
  "kernelspec": {
   "display_name": "Python 3 (ipykernel)",
   "language": "python",
   "name": "python3"
  },
  "language_info": {
   "codemirror_mode": {
    "name": "ipython",
    "version": 3
   },
   "file_extension": ".py",
   "mimetype": "text/x-python",
   "name": "python",
   "nbconvert_exporter": "python",
   "pygments_lexer": "ipython3",
   "version": "3.11.5"
  }
 },
 "nbformat": 4,
 "nbformat_minor": 4
}
