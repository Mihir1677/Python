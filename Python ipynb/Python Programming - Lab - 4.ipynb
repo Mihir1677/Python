{
 "cells": [
  {
   "cell_type": "markdown",
   "metadata": {},
   "source": [
    "\n",
    "<a href='https://www.darshan.ac.in/'> <img src='https://www.darshan.ac.in/Content/media/DU_Logo.svg' width=\"250\" height=\"300\"/></a>\n",
    "<pre>\n",
    "<center><b><h1>Python Programming - 2101CS405</b></center>\n",
    "<center><b><h1>Lab - 4</b></center>   \n",
    "<h3>Name: Mihir Bhut</h3>\n",
    "<h3>Enrollment No: <u>22010101417</u></h3>\n",
    "<h3>Roll No: 282</h3> \n",
    "<pre>"
   ]
  },
  {
   "cell_type": "code",
   "execution_count": 13,
   "metadata": {},
   "outputs": [
    {
     "name": "stdout",
     "output_type": "stream",
     "text": [
      "Hello World\n",
      "HELLO WORLD\n",
      "hello world\n",
      "False\n",
      "True\n",
      "11\n",
      "hello world\n",
      "hello world\n",
      "hello world\n",
      "9\n",
      "-1\n",
      "-1\n",
      "6\n"
     ]
    }
   ],
   "source": [
    "string = 'hello world';\n",
    "print(string.title());\n",
    "print(string.upper());\n",
    "print(string.lower());\n",
    "print(string.isupper());\n",
    "print(string.islower());\n",
    "print(len(string));\n",
    "temp = string.count('l');\n",
    "\n",
    "string2 = '         hello       '\n",
    "print(string.strip());\n",
    "print(string.lstrip());\n",
    "print(string.rstrip());\n",
    "\n",
    "print(string2.find('h'));\n",
    "print(string2.rfind('w'));\n",
    "print(string2.find('m'));\n",
    "print(string.index('w'));"
   ]
  },
  {
   "cell_type": "markdown",
   "metadata": {},
   "source": [
    "# String"
   ]
  },
  {
   "cell_type": "markdown",
   "metadata": {},
   "source": [
    "### 01) WAP to check given string is palindrome or not."
   ]
  },
  {
   "cell_type": "code",
   "execution_count": 15,
   "metadata": {},
   "outputs": [
    {
     "name": "stdout",
     "output_type": "stream",
     "text": [
      "Enter String: abc\n",
      "String is not palindrome\n"
     ]
    }
   ],
   "source": [
    "string = input(\"Enter String: \");\n",
    "print(\"String is palindrome\" if(string[::-1]==string) else \"String is not palindrome\");"
   ]
  },
  {
   "cell_type": "markdown",
   "metadata": {},
   "source": [
    "### 02) WAP to reverse the words in given string."
   ]
  },
  {
   "cell_type": "code",
   "execution_count": 16,
   "metadata": {},
   "outputs": [
    {
     "name": "stdout",
     "output_type": "stream",
     "text": [
      "Enter String: Hello how are you\n",
      "uoy era woh olleH\n"
     ]
    }
   ],
   "source": [
    "string = input(\"Enter String: \");\n",
    "print(string[::-1]);"
   ]
  },
  {
   "cell_type": "markdown",
   "metadata": {},
   "source": [
    "### 03) WAP to remove ith character from given string"
   ]
  },
  {
   "cell_type": "code",
   "execution_count": 14,
   "metadata": {},
   "outputs": [
    {
     "name": "stdout",
     "output_type": "stream",
     "text": [
      "hllo\n"
     ]
    }
   ],
   "source": [
    "string = input(\"Enter String: \");\n",
    "i = int(input(\"Enter index: \"));\n",
    "string1 = string[:i:] + string[i+1::];\n",
    "print(string1);"
   ]
  },
  {
   "cell_type": "markdown",
   "metadata": {},
   "source": [
    "### 04) WAP to find length of String without using len function."
   ]
  },
  {
   "cell_type": "code",
   "execution_count": 18,
   "metadata": {},
   "outputs": [
    {
     "name": "stdout",
     "output_type": "stream",
     "text": [
      "Enter String: hello\n",
      "String length is:  5\n"
     ]
    }
   ],
   "source": [
    "string = input(\"Enter String: \");\n",
    "count = 0;\n",
    "for i in string:\n",
    "    count = count + 1;\n",
    "print(\"String length is: \",count);"
   ]
  },
  {
   "cell_type": "markdown",
   "metadata": {},
   "source": [
    "### 05) WAP to print even length word in string."
   ]
  },
  {
   "cell_type": "code",
   "execution_count": 24,
   "metadata": {},
   "outputs": [
    {
     "name": "stdout",
     "output_type": "stream",
     "text": [
      "Enter String: hello world how are you osdw\n",
      "osdw\n"
     ]
    }
   ],
   "source": [
    "string = input(\"Enter String: \");\n",
    "li = list(string.split(' '));\n",
    "for i in li:\n",
    "    if(len(i)%2==0):\n",
    "        print(i);"
   ]
  },
  {
   "cell_type": "markdown",
   "metadata": {},
   "source": [
    "### 06) WAP to count numbers of vowels in given string."
   ]
  },
  {
   "cell_type": "code",
   "execution_count": 26,
   "metadata": {},
   "outputs": [
    {
     "name": "stdout",
     "output_type": "stream",
     "text": [
      "Enter String: ae fgt u i\n",
      "Vowels count = 4\n"
     ]
    }
   ],
   "source": [
    "string = input(\"Enter String: \");\n",
    "count = 0;\n",
    "vowels = ['a','e','i','o','u'];\n",
    "for i in string.lower():\n",
    "    if(i in vowels):\n",
    "        count += 1;\n",
    "print(\"Vowels count =\",count);"
   ]
  },
  {
   "cell_type": "markdown",
   "metadata": {},
   "source": [
    "### 07) WAP to convert given array to string."
   ]
  },
  {
   "cell_type": "code",
   "execution_count": 43,
   "metadata": {},
   "outputs": [
    {
     "name": "stdout",
     "output_type": "stream",
     "text": [
      "Enter array size: 3\n",
      "Enter Value: helo\n",
      "Enter Value: world\n",
      "Enter Value: you\n",
      "helo world you \n"
     ]
    }
   ],
   "source": [
    "n = int(input(\"Enter array size: \"));\n",
    "ary = [];\n",
    "string = '';\n",
    "for i in range(0,n):\n",
    "    temp = input('Enter Value: ');\n",
    "    ary.append(temp)\n",
    "for i in ary:\n",
    "    string += str(i+' ');\n",
    "print(string);"
   ]
  },
  {
   "cell_type": "markdown",
   "metadata": {},
   "source": [
    "### 01) WAP to find out duplicate characters in given string."
   ]
  },
  {
   "cell_type": "code",
   "execution_count": 49,
   "metadata": {},
   "outputs": [
    {
     "name": "stdout",
     "output_type": "stream",
     "text": [
      "Enter String: hello how are you\n",
      "h is repeated 2 times\n",
      "e is repeated 2 times\n",
      "l is repeated 2 times\n",
      "o is repeated 3 times\n"
     ]
    }
   ],
   "source": [
    "string = input(\"Enter String: \");\n",
    "repeated = [];\n",
    "count = 0;\n",
    "for i in string:\n",
    "    if(string.count(i)>1 and i not in repeated and i!=' '):\n",
    "        print(i,'is repeated',string.count(i),'times');\n",
    "        repeated.append(i);"
   ]
  },
  {
   "cell_type": "markdown",
   "metadata": {},
   "source": [
    "### 02) WAP to capitalize the first and last character of each word in a string."
   ]
  },
  {
   "cell_type": "code",
   "execution_count": 80,
   "metadata": {},
   "outputs": [
    {
     "name": "stdout",
     "output_type": "stream",
     "text": [
      "Enter String: hello world\n",
      "Hello worlD\n"
     ]
    }
   ],
   "source": [
    "string = input(\"Enter String: \");\n",
    "temp = str(string[0]);\n",
    "string = string.replace(temp,temp.upper());\n",
    "temp = string[-1];\n",
    "string = string.replace(temp,temp.upper());\n",
    "print(string);"
   ]
  },
  {
   "cell_type": "markdown",
   "metadata": {},
   "source": [
    "### 03) WAP to find Maximum frequency character in String."
   ]
  },
  {
   "cell_type": "code",
   "execution_count": 92,
   "metadata": {},
   "outputs": [
    {
     "name": "stdout",
     "output_type": "stream",
     "text": [
      "Enter String: hello worlld there\n",
      "Maximum frequency of character l repeated = 4\n"
     ]
    }
   ],
   "source": [
    "string = input(\"Enter String: \");\n",
    "repeated = [];\n",
    "freq = '';\n",
    "freq += (string[0]);\n",
    "freq += '1';\n",
    "count = 0;\n",
    "for i in string:\n",
    "    if(string.count(i)>1 and i not in repeated and i!=' '):\n",
    "        repeated.append(i);\n",
    "        if(string.count(i)>int(freq[-1])):\n",
    "            freq = freq + i+str(string.count(i))\n",
    "print(\"Maximum frequency of character\",freq[-2],\"repeated =\",freq[-1]);"
   ]
  },
  {
   "cell_type": "markdown",
   "metadata": {},
   "source": [
    "### 04) WAP to find Minimum frequency character in String."
   ]
  },
  {
   "cell_type": "code",
   "execution_count": 36,
   "metadata": {},
   "outputs": [
    {
     "name": "stdout",
     "output_type": "stream",
     "text": [
      "Minimum frequency of character u repeated = 1\n"
     ]
    }
   ],
   "source": [
    "string = input(\"Enter String: \");\n",
    "repeated = [];\n",
    "freq = '';\n",
    "freq += (string[0]);\n",
    "freq += '1';\n",
    "count = 0;\n",
    "for i in string:\n",
    "    if(string.count(i)<=1 and i not in repeated and i!=' '):\n",
    "        repeated.append(i);\n",
    "        if(string.count(i)<=int(freq[-1])):\n",
    "            freq = freq + i+str(string.count(i))\n",
    "print(\"Minimum frequency of character\",freq[-2],\"repeated =\",freq[-1]);"
   ]
  },
  {
   "cell_type": "markdown",
   "metadata": {},
   "source": [
    "### 05) WAP to check if a given string is binary string or not"
   ]
  },
  {
   "cell_type": "code",
   "execution_count": 33,
   "metadata": {},
   "outputs": [
    {
     "name": "stdout",
     "output_type": "stream",
     "text": [
      "Given string is not binary\n"
     ]
    }
   ],
   "source": [
    "string = input(\"Enter String: \");\n",
    "isbin = True;\n",
    "binlist = ['0','1']\n",
    "for i in string:\n",
    "    if(i not in binlist):\n",
    "        isbin = False;\n",
    "        break;\n",
    "print(\"Given string is binary\" if isbin else \"Given string is not binary\");"
   ]
  }
 ],
 "metadata": {
  "kernelspec": {
   "display_name": "Python 3 (ipykernel)",
   "language": "python",
   "name": "python3"
  },
  "language_info": {
   "codemirror_mode": {
    "name": "ipython",
    "version": 3
   },
   "file_extension": ".py",
   "mimetype": "text/x-python",
   "name": "python",
   "nbconvert_exporter": "python",
   "pygments_lexer": "ipython3",
   "version": "3.11.5"
  },
  "vscode": {
   "interpreter": {
    "hash": "31f2aee4e71d21fbe5cf8b01ff0e069b9275f58929596ceb00d14d90e3e16cd6"
   }
  }
 },
 "nbformat": 4,
 "nbformat_minor": 4
}
