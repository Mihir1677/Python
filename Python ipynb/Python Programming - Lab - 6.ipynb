{
 "cells": [
  {
   "cell_type": "markdown",
   "metadata": {},
   "source": [
    "<a href='https://www.darshan.ac.in/'> <img src='https://www.darshan.ac.in/Content/media/DU_Logo.svg' width=\"250\" height=\"300\"/></a>\n",
    "<pre>\n",
    "<center><b><h1>Python Programming - 2101CS405</b></center>\n",
    "<center><b><h1>Lab - 6</b></center>    \n",
    "<pre>"
   ]
  },
  {
   "cell_type": "markdown",
   "metadata": {},
   "source": [
    "# Tuples, dictionary, set"
   ]
  },
  {
   "cell_type": "markdown",
   "metadata": {},
   "source": [
    "# A"
   ]
  },
  {
   "cell_type": "markdown",
   "metadata": {},
   "source": [
    "### 01) WAP to sort python dictionary by key or value."
   ]
  },
  {
   "cell_type": "code",
   "execution_count": 13,
   "metadata": {},
   "outputs": [
    {
     "name": "stdout",
     "output_type": "stream",
     "text": [
      "How many data you want to enter? 3\n",
      "Enter student roll no: 45\n",
      "Enter student name: s1\n",
      "Enter student roll no: 23\n",
      "Enter student name: s2\n",
      "Enter student roll no: 30\n",
      "Enter student name: s3\n",
      "{23: 's2', 30: 's3', 45: 's1'}\n"
     ]
    }
   ],
   "source": [
    "stu = {};\n",
    "n = int(input(\"How many data you want to enter? \"));\n",
    "for i in range(0,n):\n",
    "    roll_no = int(input(\"Enter student roll no: \"));\n",
    "    name = input(\"Enter student name: \");\n",
    "    stu[roll_no] = name;\n",
    "mykeys = list(stu.keys());\n",
    "mykeys.sort();\n",
    "sorted_stu = {};\n",
    "\n",
    "for i in mykeys:\n",
    "    sorted_stu[i] = stu[i];\n",
    "print(sorted_stu)"
   ]
  },
  {
   "cell_type": "markdown",
   "metadata": {},
   "source": [
    "### 02) WAP to merge two dictionaries given by user."
   ]
  },
  {
   "cell_type": "code",
   "execution_count": 28,
   "metadata": {},
   "outputs": [
    {
     "name": "stdout",
     "output_type": "stream",
     "text": [
      "How many data you want to enter for 1st Disctionary: 2\n",
      "Enter student roll no: 1\n",
      "Enter student name: m\n",
      "Enter student roll no: 2\n",
      "Enter student name: n\n",
      "\n",
      "\n",
      "How many data you want to enter for 2nd Disctionary: 2\n",
      "Enter student roll no: 1\n",
      "Enter student name: m\n",
      "Enter student roll no: 2\n",
      "Enter student name: nestg\n",
      "{1: 'm', 2: 'nestg'}\n"
     ]
    }
   ],
   "source": [
    "stu1 = {};\n",
    "n = int(input(\"How many data you want to enter for 1st Disctionary: \"));\n",
    "for i in range(0,n):\n",
    "    roll_no = int(input(\"Enter student roll no: \"));\n",
    "    name = input(\"Enter student name: \");\n",
    "    stu1[roll_no] = name;\n",
    "stu2 = {};\n",
    "m = int(input(\"\\n\\nHow many data you want to enter for 2nd Disctionary: \"));\n",
    "for i in range(0,m):\n",
    "    roll_no = int(input(\"Enter student roll no: \"));\n",
    "    name = input(\"Enter student name: \");\n",
    "    stu2[roll_no] = name;\n",
    "\n",
    "for i in stu2:\n",
    "    stu1[i] = stu2[i];\n",
    "print(stu1)"
   ]
  },
  {
   "cell_type": "markdown",
   "metadata": {},
   "source": [
    "### 03) WAP to find tuples that have all elements divisible by K from a list of tuples."
   ]
  },
  {
   "cell_type": "code",
   "execution_count": 43,
   "metadata": {},
   "outputs": [
    {
     "name": "stdout",
     "output_type": "stream",
     "text": [
      "How many values do you want to enter? : 6\n",
      "Enter number: 1\n",
      "Enter number: 2\n",
      "Enter number: 3\n",
      "Enter number: 4\n",
      "Enter number: 5\n",
      "Enter number: 6\n",
      "Enter division value : 2\n",
      "Values divisible by  2\n",
      "\n",
      "2\n",
      "\n",
      "4\n",
      "\n",
      "6\n"
     ]
    }
   ],
   "source": [
    "num = [];\n",
    "n = int(input(\"How many values do you want to enter? : \"));\n",
    "for i in range(0,n):\n",
    "    num.append(int(input(\"Enter number: \")));\n",
    "num1 = tuple(num)\n",
    "k = int(input(\"Enter division value : \"));\n",
    "print(\"Values divisible by \",k);\n",
    "for i in range(0,len(num1)):\n",
    "    print(num1[i] if num1[i]%k==0 else '');"
   ]
  },
  {
   "cell_type": "markdown",
   "metadata": {},
   "source": [
    "### 04) WAP to find Tuples with positive elements in List of tuples."
   ]
  },
  {
   "cell_type": "code",
   "execution_count": 46,
   "metadata": {},
   "outputs": [
    {
     "name": "stdout",
     "output_type": "stream",
     "text": [
      "How many values do you want to enter? : 5\n",
      "Enter number: -1\n",
      "Enter number: -2\n",
      "Enter number: 3\n",
      "Enter number: 4\n",
      "Enter number: 5\n",
      "\n",
      "\n",
      "3\n",
      "4\n",
      "5\n"
     ]
    }
   ],
   "source": [
    "num = [];\n",
    "n = int(input(\"How many values do you want to enter? : \"));\n",
    "for i in range(0,n):\n",
    "    num.append(int(input(\"Enter number: \")));\n",
    "num1 = tuple(num)\n",
    "for i in range(0,len(num1)):\n",
    "    print(num1[i] if num1[i]>0 else '');"
   ]
  },
  {
   "cell_type": "markdown",
   "metadata": {},
   "source": [
    "### 05) WAP which perform union of two sets."
   ]
  },
  {
   "cell_type": "code",
   "execution_count": 51,
   "metadata": {},
   "outputs": [
    {
     "name": "stdout",
     "output_type": "stream",
     "text": [
      "How many values do you want to enter for 1st set? : 3\n",
      "Enter number: 1\n",
      "Enter number: 2\n",
      "Enter number: 3\n",
      "\n",
      "\n",
      "How many values do you want to enter for 2nd set? : 3\n",
      "Enter number: 3\n",
      "Enter number: 4\n",
      "Enter number: 5\n",
      "{1, 2, 3, 4, 5}\n"
     ]
    }
   ],
   "source": [
    "num1 = set();\n",
    "n = int(input(\"How many values do you want to enter for 1st set? : \"));\n",
    "for i in range(0,n):\n",
    "    num1.add(int(input(\"Enter number: \")));\n",
    "num2 = set();\n",
    "n = int(input(\"\\n\\nHow many values do you want to enter for 2nd set? : \"));\n",
    "for i in range(0,n):\n",
    "    num1.add(int(input(\"Enter number: \")));\n",
    "num1 = num1.union(num2);\n",
    "print(num1)"
   ]
  },
  {
   "cell_type": "markdown",
   "metadata": {},
   "source": [
    "# B"
   ]
  },
  {
   "cell_type": "markdown",
   "metadata": {},
   "source": [
    "### 01) WAP to convert binary tuple into integer."
   ]
  },
  {
   "cell_type": "code",
   "execution_count": null,
   "metadata": {},
   "outputs": [],
   "source": []
  },
  {
   "cell_type": "markdown",
   "metadata": {},
   "source": [
    "### 02) WAP to count frequency in list by dictionary."
   ]
  },
  {
   "cell_type": "code",
   "execution_count": null,
   "metadata": {},
   "outputs": [],
   "source": []
  },
  {
   "cell_type": "markdown",
   "metadata": {},
   "source": [
    "### 03) WAP to remove all the duplicate words from the list using dictionary."
   ]
  },
  {
   "cell_type": "code",
   "execution_count": null,
   "metadata": {},
   "outputs": [],
   "source": []
  }
 ],
 "metadata": {
  "kernelspec": {
   "display_name": "Python 3 (ipykernel)",
   "language": "python",
   "name": "python3"
  },
  "language_info": {
   "codemirror_mode": {
    "name": "ipython",
    "version": 3
   },
   "file_extension": ".py",
   "mimetype": "text/x-python",
   "name": "python",
   "nbconvert_exporter": "python",
   "pygments_lexer": "ipython3",
   "version": "3.10.9"
  }
 },
 "nbformat": 4,
 "nbformat_minor": 4
}
