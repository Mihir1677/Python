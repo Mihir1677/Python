{
 "cells": [
  {
   "cell_type": "markdown",
   "metadata": {},
   "source": [
    "\n",
    "<a href='https://www.darshan.ac.in/'> <img src='https://www.darshan.ac.in/Content/media/DU_Logo.svg' width=\"250\" height=\"300\"/></a>\n",
    "<pre>\n",
    "<center><b><h1>Python Programming - 2101CS405</b></center>\n",
    "<center><b><h1>Lab - 3</b></center>    \n",
    "<h3>Name: Mihir Bhut</h3>\n",
    "<h3>Enrollment No: <u>22010101417</u></h3>\n",
    "<h3>Roll No: 282</h3>\n",
    "<pre>"
   ]
  },
  {
   "cell_type": "markdown",
   "metadata": {},
   "source": [
    "# for and while loop"
   ]
  },
  {
   "cell_type": "markdown",
   "metadata": {},
   "source": [
    "### 01) WAP to print 1 to 10"
   ]
  },
  {
   "cell_type": "code",
   "execution_count": 1,
   "metadata": {},
   "outputs": [
    {
     "name": "stdout",
     "output_type": "stream",
     "text": [
      "1\n",
      "2\n",
      "3\n",
      "4\n",
      "5\n",
      "6\n",
      "7\n",
      "8\n",
      "9\n",
      "10\n"
     ]
    }
   ],
   "source": [
    "for i in range(1,11):\n",
    "    print(i);"
   ]
  },
  {
   "cell_type": "markdown",
   "metadata": {},
   "source": [
    "### 02) WAP to print 1 to n"
   ]
  },
  {
   "cell_type": "code",
   "execution_count": 2,
   "metadata": {},
   "outputs": [
    {
     "name": "stdout",
     "output_type": "stream",
     "text": [
      "Enter value of n to print till it: 15\n",
      "1\n",
      "2\n",
      "3\n",
      "4\n",
      "5\n",
      "6\n",
      "7\n",
      "8\n",
      "9\n",
      "10\n",
      "11\n",
      "12\n",
      "13\n",
      "14\n",
      "15\n"
     ]
    }
   ],
   "source": [
    "n = int(input(\"Enter value of n to print till it: \"));\n",
    "for i in range(1,n+1):\n",
    "    print(i);"
   ]
  },
  {
   "cell_type": "markdown",
   "metadata": {},
   "source": [
    "### 03) WAP to print odd numbers between 1 to n"
   ]
  },
  {
   "cell_type": "code",
   "execution_count": 11,
   "metadata": {},
   "outputs": [
    {
     "name": "stdout",
     "output_type": "stream",
     "text": [
      "Enter value of n to print odd number till it: 20\n",
      "1\n",
      "3\n",
      "5\n",
      "7\n",
      "9\n",
      "11\n",
      "13\n",
      "15\n",
      "17\n",
      "19\n"
     ]
    }
   ],
   "source": [
    "n = int(input(\"Enter value of n to print odd number till it: \"));\n",
    "for i in range(1,n+1):\n",
    "    print(i)if(i%2!=0)else print;"
   ]
  },
  {
   "cell_type": "markdown",
   "metadata": {},
   "source": [
    "### 04) WAP to print numbers between two given numbers which is divisible by 2 but not divisible by 3"
   ]
  },
  {
   "cell_type": "code",
   "execution_count": 16,
   "metadata": {},
   "outputs": [
    {
     "name": "stdout",
     "output_type": "stream",
     "text": [
      "Enter value of n to start from it: 1\n",
      "Enter value of m to print till it: 26\n",
      "2\n",
      "4\n",
      "8\n",
      "10\n",
      "14\n",
      "16\n",
      "20\n",
      "22\n",
      "26\n"
     ]
    }
   ],
   "source": [
    "n = int(input(\"Enter value of n to start from it: \"));\n",
    "m = int(input(\"Enter value of m to print till it: \"));\n",
    "for i in range(n,m+1):\n",
    "    print(i)if(i%2==0 and i%3!=0)else print;"
   ]
  },
  {
   "cell_type": "markdown",
   "metadata": {},
   "source": [
    "### 05) WAP to print sum of 1 to n numbers"
   ]
  },
  {
   "cell_type": "code",
   "execution_count": 20,
   "metadata": {},
   "outputs": [
    {
     "name": "stdout",
     "output_type": "stream",
     "text": [
      "Enter value of n to print sum till it: 5\n",
      "15\n"
     ]
    }
   ],
   "source": [
    "n = int(input(\"Enter value of n to print sum till it: \"));\n",
    "sum = 0;\n",
    "for i in range(1,n+1):\n",
    "    sum = sum + i;\n",
    "print(sum);"
   ]
  },
  {
   "cell_type": "markdown",
   "metadata": {},
   "source": [
    "### 06) WAP to print sum of series 1 + 4 + 9 + 16 + 25 + 36 + ...n"
   ]
  },
  {
   "cell_type": "code",
   "execution_count": 36,
   "metadata": {},
   "outputs": [
    {
     "name": "stdout",
     "output_type": "stream",
     "text": [
      "Enter value of n to print sum till it: 5\n",
      "Answer = 55\n"
     ]
    }
   ],
   "source": [
    "n = int(input(\"Enter value of n to print sum of series till it: \"));\n",
    "sum = 0;\n",
    "for i in range(1,n+1):\n",
    "    sum = sum + i**2;\n",
    "print('Answer =',sum);"
   ]
  },
  {
   "cell_type": "markdown",
   "metadata": {},
   "source": [
    "### 07) WAP to print sum of series 1 – 2 + 3 – 4 + 5 – 6 + 7 ... n"
   ]
  },
  {
   "cell_type": "code",
   "execution_count": 40,
   "metadata": {},
   "outputs": [
    {
     "name": "stdout",
     "output_type": "stream",
     "text": [
      "Enter value of n to print sum till it: 5\n",
      "Answer = 3\n"
     ]
    }
   ],
   "source": [
    "n = int(input(\"Enter value of n to print sum of series till it: \"));\n",
    "sum = 0;\n",
    "for i in range(1,n+1):\n",
    "    if (i%2!=0):\n",
    "        sum = sum + i;\n",
    "    else:\n",
    "        sum = sum - i;\n",
    "print(\"Answer =\",sum);"
   ]
  },
  {
   "cell_type": "markdown",
   "metadata": {},
   "source": [
    "### 08) WAP to print multiplication table of given number."
   ]
  },
  {
   "cell_type": "code",
   "execution_count": 5,
   "metadata": {},
   "outputs": [
    {
     "name": "stdout",
     "output_type": "stream",
     "text": [
      "5 x 1 = 5\n",
      "5 x 2 = 10\n",
      "5 x 3 = 15\n",
      "5 x 4 = 20\n",
      "5 x 5 = 25\n",
      "5 x 6 = 30\n",
      "5 x 7 = 35\n",
      "5 x 8 = 40\n",
      "5 x 9 = 45\n",
      "5 x 10 = 50\n"
     ]
    }
   ],
   "source": [
    "n = int(input(\"Enter value of n to print multiplication table of it: \"));\n",
    "ans = 0;\n",
    "for i in range(1,11):\n",
    "    ans = ans + n;\n",
    "    print(n,\"x\",i,\"=\",ans);"
   ]
  },
  {
   "cell_type": "markdown",
   "metadata": {},
   "source": [
    "### 09) WAP to find factorial of the given number"
   ]
  },
  {
   "cell_type": "code",
   "execution_count": 57,
   "metadata": {},
   "outputs": [
    {
     "name": "stdout",
     "output_type": "stream",
     "text": [
      "Enter value of n to print factorial of it: 4\n",
      "Factorial of  4 = 24\n"
     ]
    }
   ],
   "source": [
    "n = int(input(\"Enter value of n to print factorial of it: \"));\n",
    "ans = 1;\n",
    "for i in range(1,n+1):\n",
    "    ans = ans * i;\n",
    "print(\"Factorial of \",n,\"=\",ans);"
   ]
  },
  {
   "cell_type": "markdown",
   "metadata": {},
   "source": [
    "### 10) WAP to find factors of the given number"
   ]
  },
  {
   "cell_type": "code",
   "execution_count": 60,
   "metadata": {},
   "outputs": [
    {
     "name": "stdout",
     "output_type": "stream",
     "text": [
      "Enter value of n to print factors of it: 9\n",
      "Factors of 9 =\n",
      "1 3 9 "
     ]
    }
   ],
   "source": [
    "n = int(input(\"Enter value of n to print factors of it: \"));\n",
    "print(\"Factors of\",n,\"=\");\n",
    "for i in range(1,n+1):\n",
    "    print(i,end=' ') if (n%i==0) else print;"
   ]
  },
  {
   "cell_type": "markdown",
   "metadata": {},
   "source": [
    "### 11) WAP to find whether the given number is prime or not."
   ]
  },
  {
   "cell_type": "code",
   "execution_count": 72,
   "metadata": {},
   "outputs": [
    {
     "name": "stdout",
     "output_type": "stream",
     "text": [
      "Enter value of n to check if it is prime or not: 17\n",
      "Given number is Prime\n"
     ]
    }
   ],
   "source": [
    "n = int(input(\"Enter value of n to check if it is prime or not: \"));\n",
    "prime = 0;\n",
    "for i in range(2,n):\n",
    "    if(n%i==0):\n",
    "        prime = 1;\n",
    "print(\"Given number is Prime\" if (prime==0) else \"Given number is not Prime\");"
   ]
  },
  {
   "cell_type": "markdown",
   "metadata": {},
   "source": [
    "### 12) WAP to print sum of digits of given number"
   ]
  },
  {
   "cell_type": "code",
   "execution_count": 80,
   "metadata": {},
   "outputs": [
    {
     "name": "stdout",
     "output_type": "stream",
     "text": [
      "Enter value of n to print sum of digits of it: 456\n",
      "Sum = 15\n"
     ]
    }
   ],
   "source": [
    "n = int(input(\"Enter value of n to print sum of digits of it: \"));\n",
    "sum = 0;\n",
    "while(n>0):\n",
    "    rem = int(n % 10);\n",
    "    sum = sum + rem;\n",
    "    n = int(n / 10);\n",
    "print(\"Sum =\",sum);"
   ]
  },
  {
   "cell_type": "markdown",
   "metadata": {},
   "source": [
    "### 13) WAP to check whether the given number is palindrome or not"
   ]
  },
  {
   "cell_type": "code",
   "execution_count": 110,
   "metadata": {},
   "outputs": [
    {
     "name": "stdout",
     "output_type": "stream",
     "text": [
      "Enter value of n to check if it is palindrome: 1221\n",
      "Number is Palindrome\n"
     ]
    }
   ],
   "source": [
    "n = int(input(\"Enter value of n to check if it is palindrome: \"));\n",
    "ans = '';\n",
    "temp = str(n);\n",
    "while(n>0):\n",
    "    rem = int(n % 10);\n",
    "    ans = ans + str(rem);\n",
    "    n = int(n / 10);\n",
    "print(\"Number is Palindrome\" if ans == temp else \"Number is not Palindrome\");"
   ]
  },
  {
   "cell_type": "markdown",
   "metadata": {},
   "source": [
    "### 01) WAP to check whether the given number is Armstrong or not."
   ]
  },
  {
   "cell_type": "code",
   "execution_count": 97,
   "metadata": {},
   "outputs": [
    {
     "name": "stdout",
     "output_type": "stream",
     "text": [
      "Enter value of n to check if it is Armstrong or not: 407\n",
      "Number is Armstrong\n"
     ]
    }
   ],
   "source": [
    "n = int(input(\"Enter value of n to check if it is Armstrong or not: \"));\n",
    "ans = 0;\n",
    "temp = n;\n",
    "pow = len(str(n));\n",
    "while(n>0):\n",
    "    rem = int(n % 10);\n",
    "    ans = ans + rem**pow;\n",
    "    n = int(n / 10);\n",
    "print(\"Number is Armstrong\" if temp == ans else \"Number is not Armstrong\");"
   ]
  },
  {
   "cell_type": "markdown",
   "metadata": {},
   "source": [
    "### 02) WAP to find out prime numbers between given two numbers."
   ]
  },
  {
   "cell_type": "code",
   "execution_count": 125,
   "metadata": {},
   "outputs": [
    {
     "name": "stdout",
     "output_type": "stream",
     "text": [
      "Enter value of n to start from it: 10\n",
      "Enter value of m to check till it: 28\n",
      "Prime numbers between 10 to 28\n",
      "11\n",
      "13\n",
      "17\n",
      "19\n",
      "23\n"
     ]
    }
   ],
   "source": [
    "n = int(input(\"Enter value of n to start from it: \"));\n",
    "m = int(input(\"Enter value of m to check till it: \"));\n",
    "print(\"Prime numbers between\",n,\"to\",m);\n",
    "for i in range(n,m):\n",
    "    prime = 0;\n",
    "    for j in range(2,i):\n",
    "        if(i%j==0):\n",
    "            prime = 1;\n",
    "    print(i) if prime==0 else print;"
   ]
  },
  {
   "cell_type": "markdown",
   "metadata": {},
   "source": [
    "### 03) WAP to calculate x^y without using any function."
   ]
  },
  {
   "cell_type": "code",
   "execution_count": 128,
   "metadata": {},
   "outputs": [
    {
     "name": "stdout",
     "output_type": "stream",
     "text": [
      "Enter value of x as base: 5\n",
      "Enter value of y as power: 3\n",
      "Answer = 125\n"
     ]
    }
   ],
   "source": [
    "x = int(input(\"Enter value of x as base: \"));\n",
    "y = int(input(\"Enter value of y as power: \"));\n",
    "ans = 1;\n",
    "for i in range(1,y+1):\n",
    "    ans = ans * x;\n",
    "print(\"Answer =\",ans);"
   ]
  },
  {
   "cell_type": "markdown",
   "metadata": {},
   "source": [
    "### 04) WAP to check whether the given number is perfect or not.\n",
    "[Sum of factors including 1 excluding number itself]"
   ]
  },
  {
   "cell_type": "code",
   "execution_count": 8,
   "metadata": {},
   "outputs": [
    {
     "name": "stdout",
     "output_type": "stream",
     "text": [
      "Given number is not Perfect\n"
     ]
    }
   ],
   "source": [
    "n = int(input(\"Enter value of n to check if it is perfect or not: \"));\n",
    "fact = 0;\n",
    "for i in range(1,n):\n",
    "    if(n%i==0):\n",
    "        fact = fact + i;\n",
    "print(\"Given number is Perfect\" if fact == n else \"Given number is not Perfect\");"
   ]
  },
  {
   "cell_type": "markdown",
   "metadata": {},
   "source": [
    "### 05) WAP to find the sum of 1 + (1+2) + (1+2+3) + (1+2+3+4)+...+(1+2+3+4+....+n)"
   ]
  },
  {
   "cell_type": "code",
   "execution_count": 139,
   "metadata": {},
   "outputs": [
    {
     "name": "stdout",
     "output_type": "stream",
     "text": [
      "Enter value of n to print sum as above: 5\n",
      "Sum = 35\n"
     ]
    }
   ],
   "source": [
    "n = int(input(\"Enter value of n to print sum as above: \"));\n",
    "ans = 0;\n",
    "sum = 0;\n",
    "for i in range(1,n+1):\n",
    "    sum = sum + i;\n",
    "    ans = ans + sum;\n",
    "print(\"Sum =\",ans);"
   ]
  },
  {
   "cell_type": "markdown",
   "metadata": {},
   "source": [
    "### 06) WAP to print Multiplication Table up to n"
   ]
  },
  {
   "cell_type": "code",
   "execution_count": 141,
   "metadata": {},
   "outputs": [
    {
     "name": "stdout",
     "output_type": "stream",
     "text": [
      "Enter value of n to print multiplication table for it: 5\n",
      "Enter value of m to print multiplications till it: 25\n",
      "5 x 1 = 5\n",
      "5 x 2 = 10\n",
      "5 x 3 = 15\n",
      "5 x 4 = 20\n",
      "5 x 5 = 25\n",
      "5 x 6 = 30\n",
      "5 x 7 = 35\n",
      "5 x 8 = 40\n",
      "5 x 9 = 45\n",
      "5 x 10 = 50\n",
      "5 x 11 = 55\n",
      "5 x 12 = 60\n",
      "5 x 13 = 65\n",
      "5 x 14 = 70\n",
      "5 x 15 = 75\n",
      "5 x 16 = 80\n",
      "5 x 17 = 85\n",
      "5 x 18 = 90\n",
      "5 x 19 = 95\n",
      "5 x 20 = 100\n",
      "5 x 21 = 105\n",
      "5 x 22 = 110\n",
      "5 x 23 = 115\n",
      "5 x 24 = 120\n",
      "5 x 25 = 125\n"
     ]
    }
   ],
   "source": [
    "n = int(input(\"Enter value of n to print multiplication table for it: \"));\n",
    "m = int(input(\"Enter value of m to print multiplications till it: \"))\n",
    "ans = 0;\n",
    "for i in range(1,m+1):\n",
    "    ans = ans + n;\n",
    "    print(n,\"x\",i,\"=\",ans);"
   ]
  }
 ],
 "metadata": {
  "kernelspec": {
   "display_name": "Python 3 (ipykernel)",
   "language": "python",
   "name": "python3"
  },
  "language_info": {
   "codemirror_mode": {
    "name": "ipython",
    "version": 3
   },
   "file_extension": ".py",
   "mimetype": "text/x-python",
   "name": "python",
   "nbconvert_exporter": "python",
   "pygments_lexer": "ipython3",
   "version": "3.11.5"
  }
 },
 "nbformat": 4,
 "nbformat_minor": 4
}
