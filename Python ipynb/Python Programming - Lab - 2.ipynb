{
 "cells": [
  {
   "cell_type": "markdown",
   "metadata": {},
   "source": [
    "\n",
    "<a href='https://www.darshan.ac.in/'> <img src='https://www.darshan.ac.in/Content/media/DU_Logo.svg' width=\"250\" height=\"300\"/></a>\n",
    "<pre>\n",
    "<center><b><h1>Python Programming - 2101CS405</b></center>\n",
    "<center><b><h1>Lab - 2</b></center>\n",
    "<h3>Name: Mihir Bhut<br/>\n",
    "Enrollment No: <u>22010101417</u><br/>\n",
    "Roll No: 282</h3>\n",
    "<pre>"
   ]
  },
  {
   "cell_type": "markdown",
   "metadata": {},
   "source": [
    "# if..else.."
   ]
  },
  {
   "cell_type": "markdown",
   "metadata": {},
   "source": [
    "### 01) WAP to check whether the given number is positive or negative."
   ]
  },
  {
   "cell_type": "code",
   "execution_count": 6,
   "metadata": {},
   "outputs": [
    {
     "name": "stdout",
     "output_type": "stream",
     "text": [
      "Enter number: 0\n",
      "Negative\n"
     ]
    }
   ],
   "source": [
    "n = int(input(\"Enter number: \"))\n",
    "if n > 0:\n",
    "    print(\"Positive\")\n",
    "else:\n",
    "    print(\"Negative\")"
   ]
  },
  {
   "cell_type": "markdown",
   "metadata": {},
   "source": [
    "### 02) WAP to check whether the given number is odd or even"
   ]
  },
  {
   "cell_type": "code",
   "execution_count": 8,
   "metadata": {},
   "outputs": [
    {
     "name": "stdout",
     "output_type": "stream",
     "text": [
      "Enter number: 2\n",
      "Even\n"
     ]
    }
   ],
   "source": [
    "n = int(input(\"Enter number: \"))\n",
    "if n%2==0:\n",
    "    print(\"Even\")\n",
    "else:\n",
    "    print(\"Odd\")"
   ]
  },
  {
   "cell_type": "markdown",
   "metadata": {},
   "source": [
    "### 03) WAP to find out largest number from given two numbers using simple if and ternary operator."
   ]
  },
  {
   "cell_type": "code",
   "execution_count": 1,
   "metadata": {},
   "outputs": [
    {
     "name": "stdout",
     "output_type": "stream",
     "text": [
      "Enter 1st number: 23\n",
      "Enter 2nd number: 56\n",
      "56 is largest\n"
     ]
    }
   ],
   "source": [
    "n1 = int(input(\"Enter 1st number: \"))\n",
    "n2 = int(input(\"Enter 2nd number: \"))\n",
    "print(n1,\"is largest\")if n1>n2 else print(n2,\"is largest\")"
   ]
  },
  {
   "cell_type": "markdown",
   "metadata": {},
   "source": [
    "### 04) WAP to find out largest number from given three numbers."
   ]
  },
  {
   "cell_type": "code",
   "execution_count": 11,
   "metadata": {},
   "outputs": [
    {
     "name": "stdout",
     "output_type": "stream",
     "text": [
      "Enter 1st number: 12\n",
      "Enter 2nd number: 1\n",
      "Enter 3rd number: 99\n",
      "99 is largest\n"
     ]
    }
   ],
   "source": [
    "n1 = int(input(\"Enter 1st number: \"))\n",
    "n2 = int(input(\"Enter 2nd number: \"))\n",
    "n3 = int(input(\"Enter 3rd number: \"))\n",
    "if n1>n2 and n1>n3:\n",
    "    print(n1,\"is largest\")\n",
    "elif n2>n1 and n2>n3:\n",
    "    print(n2,\"is largest\")\n",
    "else:\n",
    "    print(n3,\"is largest\")"
   ]
  },
  {
   "cell_type": "markdown",
   "metadata": {},
   "source": [
    "### 05) WAP to check whether the given year is leap year or not.\n",
    "[If a year can be divisible by 4 but not divisible by 100 then it is leap year but if it is divisible by 400 then it is leap year]"
   ]
  },
  {
   "cell_type": "code",
   "execution_count": 14,
   "metadata": {},
   "outputs": [
    {
     "name": "stdout",
     "output_type": "stream",
     "text": [
      "Enter year2000\n",
      "Leap year\n"
     ]
    }
   ],
   "source": [
    "year = int(input(\"Enter year\"))\n",
    "if year % 4 == 0 and year % 100 != 0 or year % 400 == 0:\n",
    "    print(\"Leap year\")\n",
    "else:\n",
    "    print(\"Not Leap year\")"
   ]
  },
  {
   "cell_type": "markdown",
   "metadata": {},
   "source": [
    "### 06) WAP in python to display the name of the day according to the number given by the user"
   ]
  },
  {
   "cell_type": "code",
   "execution_count": 20,
   "metadata": {},
   "outputs": [
    {
     "name": "stdout",
     "output_type": "stream",
     "text": [
      "Enter number: 7\n",
      "Sunday\n"
     ]
    }
   ],
   "source": [
    "day = int(input(\"Enter number: \"))\n",
    "if day==1:\n",
    "    print(\"Monday\")\n",
    "elif day==2:\n",
    "    print(\"Tuesday\")\n",
    "elif day==3:\n",
    "    print(\"Wednesday\")\n",
    "elif day==4:\n",
    "    print(\"Thursday\")\n",
    "elif day==5:\n",
    "    print(\"Friday\")\n",
    "elif day==6:\n",
    "    print(\"Saturday\")\n",
    "elif day==7:\n",
    "    print(\"Sunday\")\n",
    "else:\n",
    "    print(\"Invalid\")"
   ]
  },
  {
   "cell_type": "markdown",
   "metadata": {},
   "source": [
    "### 07) WAP to implement simple calculator which performs (add,sub,mul,div) of two no. based on user input."
   ]
  },
  {
   "cell_type": "code",
   "execution_count": 31,
   "metadata": {},
   "outputs": [
    {
     "name": "stdout",
     "output_type": "stream",
     "text": [
      "Enter 1 for addition\n",
      "Enter 2 for Subtraction\n",
      "Enter 3 for Multiplication\n",
      "Enter 4 for Division(a/b): 5\n",
      "Enter value of a: 5\n",
      "Enter value of b: 5\n",
      "Invalid\n"
     ]
    }
   ],
   "source": [
    "check = int(input(\"Enter 1 for addition\\nEnter 2 for Subtraction\\nEnter 3 for Multiplication\\nEnter 4 for Division(a/b): \"))\n",
    "a = int(input(\"Enter value of a: \"))\n",
    "b = int(input(\"Enter value of b: \"))\n",
    "if check == 1:\n",
    "    print(a,\"+\",b,\"=\",a+b)\n",
    "elif check == 2:\n",
    "    print(a,\"-\",b,\"=\",a-b)\n",
    "elif check == 3:\n",
    "    print(a,\"*\",b,\"=\",a*b)\n",
    "elif check == 4:\n",
    "    print(a,\"/\",b,\"=\",a/b)\n",
    "else:\n",
    "    print(\"Invalid\")"
   ]
  },
  {
   "cell_type": "markdown",
   "metadata": {},
   "source": [
    "### 08) WAP to calculate electricity bill based on following criteria. Which takes the unit from the user.\n",
    "a. First 1 to 50 units – Rs. 2.60/unit</br>\n",
    "b. Next 50 to 100 units – Rs. 3.25/unit</br>\n",
    "c. Next 100 to 200 units – Rs. 5.26/unit</br>\n",
    "d. above 200 units – Rs. 8.45/unit"
   ]
  },
  {
   "cell_type": "code",
   "execution_count": 21,
   "metadata": {},
   "outputs": [
    {
     "name": "stdout",
     "output_type": "stream",
     "text": [
      "Enter Unit: 789\n",
      "Total unit usage = 789 \n",
      "With bill is Rs. 5795.549999999999\n"
     ]
    }
   ],
   "source": [
    "unit = int(input(\"Enter Unit: \"));\n",
    "r1 = 2.60;\n",
    "r2 = 3.25;\n",
    "r3 = 5.26;\n",
    "r4 = 8.45;\n",
    "\n",
    "if(unit <= 50):\n",
    "    bill = unit * r1;\n",
    "elif(50 <unit <=100):\n",
    "    bill = 50*r1+(unit-50)*r2;\n",
    "elif(100 <unit <=200):\n",
    "    bill = 50*r1+50*r2+(unit-100)*r4;\n",
    "else:\n",
    "    bill = 50 * r1 + 50 * r2 + 100 * r3 + (unit-200) *r4;\n",
    "print(\"Total unit usage =\",unit,\"\\nWith bill is Rs.\",bill);"
   ]
  },
  {
   "cell_type": "markdown",
   "metadata": {},
   "source": [
    "### 01) WAP to read marks of five subjects. Calculate percentage and print class accordingly. \n",
    "Fail below 35 </br>\n",
    "Pass Class between 35 to 45 </br>\n",
    "Second Class</br>\n",
    "between 45 to 60</br>\n",
    "First Class between 60 to 70</br> \n",
    "Distinction if more than 70"
   ]
  },
  {
   "cell_type": "code",
   "execution_count": 7,
   "metadata": {},
   "outputs": [
    {
     "name": "stdout",
     "output_type": "stream",
     "text": [
      "Enter 1st subject mark: 45\n",
      "Enter 2th subject mark: 45\n",
      "Enter 3th subject mark: 45\n",
      "Enter 4th subject mark: 45\n",
      "Enter 5th subject mark: 5\n",
      "Pass Class with 37.0 percentage\n"
     ]
    }
   ],
   "source": [
    "s1 = int(input(\"Enter 1st subject mark: \"));\n",
    "s2 = int(input(\"Enter 2th subject mark: \"));\n",
    "s3 = int(input(\"Enter 3th subject mark: \"));\n",
    "s4 = int(input(\"Enter 4th subject mark: \"));\n",
    "s5 = int(input(\"Enter 5th subject mark: \"));\n",
    "per = ((s1+s2+s3+s4+s5)/500)*100;\n",
    "if(per>=70):\n",
    "    print(\"Distinction with\",per,\"percentage\");\n",
    "elif(per>=60):\n",
    "    print(\"First Class with\",per,\"percentage\");\n",
    "elif(per>=45):\n",
    "    print(\"Second Class with\",per,\"percentage\");\n",
    "elif(per>=35):\n",
    "    print(\"Pass Class with\",per,\"percentage\");\n",
    "elif(per<35):\n",
    "    print(\"Fail\")"
   ]
  },
  {
   "cell_type": "markdown",
   "metadata": {},
   "source": [
    "### 02) WAP to find out the Maximum and Minimum number from given 4 numbers."
   ]
  },
  {
   "cell_type": "code",
   "execution_count": 13,
   "metadata": {},
   "outputs": [
    {
     "name": "stdout",
     "output_type": "stream",
     "text": [
      "Enter 1st number: 5\n",
      "Enter 2nd number: 95\n",
      "Enter 3rd number: 95\n",
      "Enter 4th number: 4\n",
      "Max is 95 \n",
      "Min is 4\n"
     ]
    }
   ],
   "source": [
    "n1 = int(input(\"Enter 1st number: \"));\n",
    "n2 = int(input(\"Enter 2nd number: \"));\n",
    "n3 = int(input(\"Enter 3rd number: \"));\n",
    "n4 = int(input(\"Enter 4th number: \"));\n",
    "max = n1;\n",
    "min = n1;\n",
    "if(max<n2):\n",
    "    max = n2;\n",
    "if(max<n3):\n",
    "    max = n3;\n",
    "if(max<n4):\n",
    "    max = n4;\n",
    "if(min>n2):\n",
    "    min = n2;\n",
    "if(min>n3):\n",
    "    min = n3;\n",
    "if(min>n4):\n",
    "    min = n4;\n",
    "print(\"Max is\",max,\"\\nMin is\",min);"
   ]
  },
  {
   "cell_type": "markdown",
   "metadata": {},
   "source": [
    "### 03) WAP to input an integer number and check the last digit of number is even or odd."
   ]
  },
  {
   "cell_type": "code",
   "execution_count": 18,
   "metadata": {},
   "outputs": [
    {
     "name": "stdout",
     "output_type": "stream",
     "text": [
      "Enter num: 56\n",
      "Last digit is even\n"
     ]
    }
   ],
   "source": [
    "n = int(input(\"Enter num: \"))\n",
    "if(n%2==0):\n",
    "    print(\"Last digit is even\")\n",
    "else:\n",
    "    print(\"Last digit is odd\")"
   ]
  },
  {
   "cell_type": "markdown",
   "metadata": {},
   "source": [
    "### 04) WAP to determine the roots of the equation ax2+bx+c=0."
   ]
  },
  {
   "cell_type": "code",
   "execution_count": 55,
   "metadata": {},
   "outputs": [
    {
     "name": "stdout",
     "output_type": "stream",
     "text": [
      "Enter value of a: 1\n",
      "Enter value of b: 2\n",
      "Enter value of c: 15\n",
      "Root: (-0.9999999999999998+3.7416573867739413j)\n"
     ]
    }
   ],
   "source": [
    "a = int(input(\"Enter value of a: \"));\n",
    "b = int(input(\"Enter value of b: \"));\n",
    "c = int(input(\"Enter value of c: \"));\n",
    "\n",
    "d = (b**2-(4*a*c));\n",
    "d = d**1/2\n",
    "root = (-b+d)/(2*a);\n",
    "print(\"Root:\",root);"
   ]
  }
 ],
 "metadata": {
  "kernelspec": {
   "display_name": "Python 3 (ipykernel)",
   "language": "python",
   "name": "python3"
  },
  "language_info": {
   "codemirror_mode": {
    "name": "ipython",
    "version": 3
   },
   "file_extension": ".py",
   "mimetype": "text/x-python",
   "name": "python",
   "nbconvert_exporter": "python",
   "pygments_lexer": "ipython3",
   "version": "3.11.5"
  }
 },
 "nbformat": 4,
 "nbformat_minor": 4
}
